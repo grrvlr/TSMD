{
 "cells": [
  {
   "cell_type": "code",
   "execution_count": null,
   "metadata": {},
   "outputs": [],
   "source": [
    "import os\n",
    "initial_path=os.getcwd()\n",
    "dataset_list=['arm-CODA','mitdb','mitdb1','ptt-ppg','REFIT','SIGN/SIGNRoll','JIGSAW/JIGSAWSMaster','JIGSAW/JIGSAWSSlave']\n",
    "os.chdir(initial_path+'/../..')\n",
    "import experiments.benchmark_experiment as exp\n",
    "from tsmd.competitors.locomotif import LocoMotif\n",
    "data_paths_list= [os.getcwd()+ '/data/processed_data/'+ dataset + '/' for dataset in dataset_list]\n",
    "results_paths_list = [os.getcwd() + '/results/RQ1/' + dataset + '/' for dataset in dataset_list] \n",
    "os.chdir(initial_path)"
   ]
  },
  {
   "cell_type": "markdown",
   "metadata": {},
   "source": [
    "## LocoMotif"
   ]
  },
  {
   "cell_type": "code",
   "execution_count": null,
   "metadata": {},
   "outputs": [],
   "source": [
    "algorithms=[LocoMotif]\n",
    "for data_path,results_path in zip(data_paths_list,results_paths_list):\n",
    "    exp1=exp.Experiment(algorithms)\n",
    "    exp1.run_experiment(data_path,results_path=results_path)"
   ]
  },
  {
   "cell_type": "markdown",
   "metadata": {},
   "source": []
  },
  {
   "cell_type": "code",
   "execution_count": null,
   "metadata": {},
   "outputs": [],
   "source": []
  }
 ],
 "metadata": {
  "kernelspec": {
   "display_name": "base",
   "language": "python",
   "name": "python3"
  },
  "language_info": {
   "codemirror_mode": {
    "name": "ipython",
    "version": 3
   },
   "file_extension": ".py",
   "mimetype": "text/x-python",
   "name": "python",
   "nbconvert_exporter": "python",
   "pygments_lexer": "ipython3",
   "version": "3.10.14"
  }
 },
 "nbformat": 4,
 "nbformat_minor": 2
}
