{
 "cells": [
  {
   "cell_type": "code",
   "execution_count": 1,
   "metadata": {},
   "outputs": [],
   "source": [
    "import os "
   ]
  },
  {
   "cell_type": "code",
   "execution_count": 2,
   "metadata": {},
   "outputs": [],
   "source": [
    "initial_path=os.getcwd()\n",
    "dataset_list=['arm-CODA','mitdb','mitdb1','ptt-ppg','REFIT','SIGN/SIGNRoll','JIGSAW/JIGSAWSMaster','JIGSAW/JIGSAWSSlave']\n",
    "os.chdir(initial_path+'/../..')\n",
    "import experiments.benchmark_experiment as exp\n",
    "from tsmd.competitors.motiflets_numba import Motiflets_numba\n",
    "data_paths_list= [os.getcwd()+ '/data/processed_data/'+ dataset + '/' for dataset in dataset_list]\n",
    "results_paths_list = [os.getcwd() + '/results/RQ1/' + dataset + '/' for dataset in dataset_list] \n",
    "os.chdir(initial_path)"
   ]
  },
  {
   "cell_type": "markdown",
   "metadata": {},
   "source": [
    "## Motiflets"
   ]
  },
  {
   "cell_type": "code",
   "execution_count": 3,
   "metadata": {},
   "outputs": [
    {
     "name": "stdout",
     "output_type": "stream",
     "text": [
      "signal_name: armcoda_0, algo: Motiflets_numba failed to fit.\n",
      "signal_name: armcoda_1, algo: Motiflets_numba failed to fit.\n",
      "signal_name: armcoda_10, algo: Motiflets_numba failed to fit.\n",
      "signal_name: armcoda_11, algo: Motiflets_numba failed to fit.\n",
      "signal_name: armcoda_12, algo: Motiflets_numba failed to fit.\n",
      "signal_name: armcoda_13, algo: Motiflets_numba failed to fit.\n",
      "signal_name: armcoda_14, algo: Motiflets_numba failed to fit.\n",
      "signal_name: armcoda_15, algo: Motiflets_numba failed to fit.\n",
      "signal_name: armcoda_16, algo: Motiflets_numba failed to fit.\n",
      "signal_name: armcoda_17, algo: Motiflets_numba failed to fit.\n",
      "signal_name: armcoda_18, algo: Motiflets_numba failed to fit.\n",
      "signal_name: armcoda_19, algo: Motiflets_numba failed to fit.\n",
      "signal_name: armcoda_2, algo: Motiflets_numba failed to fit.\n",
      "signal_name: armcoda_20, algo: Motiflets_numba failed to fit.\n",
      "signal_name: armcoda_21, algo: Motiflets_numba failed to fit.\n",
      "signal_name: armcoda_22, algo: Motiflets_numba failed to fit.\n",
      "signal_name: armcoda_23, algo: Motiflets_numba failed to fit.\n",
      "signal_name: armcoda_24, algo: Motiflets_numba failed to fit.\n",
      "signal_name: armcoda_25, algo: Motiflets_numba failed to fit.\n",
      "signal_name: armcoda_26, algo: Motiflets_numba failed to fit.\n",
      "signal_name: armcoda_27, algo: Motiflets_numba failed to fit.\n",
      "signal_name: armcoda_28, algo: Motiflets_numba failed to fit.\n",
      "signal_name: armcoda_29, algo: Motiflets_numba failed to fit.\n",
      "signal_name: armcoda_3, algo: Motiflets_numba failed to fit.\n",
      "signal_name: armcoda_30, algo: Motiflets_numba failed to fit.\n",
      "signal_name: armcoda_31, algo: Motiflets_numba failed to fit.\n",
      "signal_name: armcoda_32, algo: Motiflets_numba failed to fit.\n",
      "signal_name: armcoda_33, algo: Motiflets_numba failed to fit.\n",
      "signal_name: armcoda_34, algo: Motiflets_numba failed to fit.\n",
      "signal_name: armcoda_35, algo: Motiflets_numba failed to fit.\n",
      "signal_name: armcoda_36, algo: Motiflets_numba failed to fit.\n",
      "signal_name: armcoda_37, algo: Motiflets_numba failed to fit.\n",
      "signal_name: armcoda_38, algo: Motiflets_numba failed to fit.\n",
      "signal_name: armcoda_39, algo: Motiflets_numba failed to fit.\n",
      "signal_name: armcoda_4, algo: Motiflets_numba failed to fit.\n",
      "signal_name: armcoda_40, algo: Motiflets_numba failed to fit.\n",
      "signal_name: armcoda_41, algo: Motiflets_numba failed to fit.\n",
      "signal_name: armcoda_42, algo: Motiflets_numba failed to fit.\n",
      "signal_name: armcoda_43, algo: Motiflets_numba failed to fit.\n",
      "signal_name: armcoda_44, algo: Motiflets_numba failed to fit.\n",
      "signal_name: armcoda_45, algo: Motiflets_numba failed to fit.\n",
      "signal_name: armcoda_46, algo: Motiflets_numba failed to fit.\n",
      "signal_name: armcoda_47, algo: Motiflets_numba failed to fit.\n",
      "signal_name: armcoda_48, algo: Motiflets_numba failed to fit.\n",
      "signal_name: armcoda_49, algo: Motiflets_numba failed to fit.\n",
      "signal_name: armcoda_5, algo: Motiflets_numba failed to fit.\n",
      "signal_name: armcoda_50, algo: Motiflets_numba failed to fit.\n",
      "signal_name: armcoda_51, algo: Motiflets_numba failed to fit.\n",
      "signal_name: armcoda_52, algo: Motiflets_numba failed to fit.\n",
      "signal_name: armcoda_53, algo: Motiflets_numba failed to fit.\n",
      "signal_name: armcoda_54, algo: Motiflets_numba failed to fit.\n",
      "signal_name: armcoda_55, algo: Motiflets_numba failed to fit.\n",
      "signal_name: armcoda_56, algo: Motiflets_numba failed to fit.\n",
      "signal_name: armcoda_57, algo: Motiflets_numba failed to fit.\n",
      "signal_name: armcoda_58, algo: Motiflets_numba failed to fit.\n",
      "signal_name: armcoda_59, algo: Motiflets_numba failed to fit.\n",
      "signal_name: armcoda_6, algo: Motiflets_numba failed to fit.\n",
      "signal_name: armcoda_60, algo: Motiflets_numba failed to fit.\n",
      "signal_name: armcoda_61, algo: Motiflets_numba failed to fit.\n",
      "signal_name: armcoda_62, algo: Motiflets_numba failed to fit.\n",
      "signal_name: armcoda_63, algo: Motiflets_numba failed to fit.\n",
      "signal_name: armcoda_7, algo: Motiflets_numba failed to fit.\n",
      "signal_name: armcoda_8, algo: Motiflets_numba failed to fit.\n",
      "signal_name: armcoda_9, algo: Motiflets_numba failed to fit.\n"
     ]
    },
    {
     "ename": "KeyError",
     "evalue": "\"Only a column name can be used for the key in a dtype mappings argument. 'metric' not found in columns.\"",
     "output_type": "error",
     "traceback": [
      "\u001b[0;31m---------------------------------------------------------------------------\u001b[0m",
      "\u001b[0;31mKeyError\u001b[0m                                  Traceback (most recent call last)",
      "\u001b[0;32m/var/folders/dc/2vgy793x7t15h4j_f_cy_88h0000gr/T/ipykernel_2974/3697430364.py\u001b[0m in \u001b[0;36m?\u001b[0;34m()\u001b[0m\n\u001b[1;32m      1\u001b[0m \u001b[0malgorithms\u001b[0m\u001b[0;34m=\u001b[0m\u001b[0;34m[\u001b[0m\u001b[0mMotiflets_numba\u001b[0m\u001b[0;34m]\u001b[0m\u001b[0;34m\u001b[0m\u001b[0;34m\u001b[0m\u001b[0m\n\u001b[1;32m      2\u001b[0m \u001b[0;32mfor\u001b[0m \u001b[0mdata_path\u001b[0m\u001b[0;34m,\u001b[0m\u001b[0mresults_path\u001b[0m \u001b[0;32min\u001b[0m \u001b[0mzip\u001b[0m\u001b[0;34m(\u001b[0m\u001b[0mdata_paths_list\u001b[0m\u001b[0;34m,\u001b[0m\u001b[0mresults_paths_list\u001b[0m\u001b[0;34m)\u001b[0m\u001b[0;34m:\u001b[0m\u001b[0;34m\u001b[0m\u001b[0;34m\u001b[0m\u001b[0m\n\u001b[1;32m      3\u001b[0m     \u001b[0mexp1\u001b[0m\u001b[0;34m=\u001b[0m\u001b[0mexp\u001b[0m\u001b[0;34m.\u001b[0m\u001b[0mExperiment\u001b[0m\u001b[0;34m(\u001b[0m\u001b[0malgorithms\u001b[0m\u001b[0;34m)\u001b[0m\u001b[0;34m\u001b[0m\u001b[0;34m\u001b[0m\u001b[0m\n\u001b[0;32m----> 4\u001b[0;31m     \u001b[0mexp1\u001b[0m\u001b[0;34m.\u001b[0m\u001b[0mrun_experiment\u001b[0m\u001b[0;34m(\u001b[0m\u001b[0mdata_path\u001b[0m\u001b[0;34m,\u001b[0m\u001b[0mresults_path\u001b[0m\u001b[0;34m=\u001b[0m\u001b[0mresults_path\u001b[0m\u001b[0;34m)\u001b[0m\u001b[0;34m\u001b[0m\u001b[0;34m\u001b[0m\u001b[0m\n\u001b[0m",
      "\u001b[0;32m~/Documents/Borelli/These/TSMD/experiments/benchmark_experiment.py\u001b[0m in \u001b[0;36m?\u001b[0;34m(self, dataset_path, generator_params, results_path, backup_path, batch_size, logs_path, verbose, n_ts)\u001b[0m\n\u001b[1;32m    323\u001b[0m                 \u001b[0;32mfor\u001b[0m \u001b[0msignal\u001b[0m\u001b[0;34m,\u001b[0m\u001b[0mlabel\u001b[0m\u001b[0;34m,\u001b[0m\u001b[0msignal_name\u001b[0m\u001b[0;34m,\u001b[0m\u001b[0mconfig\u001b[0m \u001b[0;32min\u001b[0m \u001b[0mbatch\u001b[0m\u001b[0;34m\u001b[0m\u001b[0;34m\u001b[0m\u001b[0m\n\u001b[1;32m    324\u001b[0m                 for id_a,algo in enumerate(self.algorithms))\n\u001b[1;32m    325\u001b[0m             \u001b[0mcounts\u001b[0m \u001b[0;34m=\u001b[0m \u001b[0mmin\u001b[0m\u001b[0;34m(\u001b[0m\u001b[0mcounts\u001b[0m\u001b[0;34m+\u001b[0m\u001b[0mbatch_size\u001b[0m\u001b[0;34m,\u001b[0m\u001b[0mn_signals\u001b[0m\u001b[0;34m)\u001b[0m\u001b[0;34m\u001b[0m\u001b[0;34m\u001b[0m\u001b[0m\n\u001b[1;32m    326\u001b[0m             \u001b[0mself\u001b[0m\u001b[0;34m.\u001b[0m\u001b[0mdf_\u001b[0m\u001b[0;34m=\u001b[0m \u001b[0mpd\u001b[0m\u001b[0;34m.\u001b[0m\u001b[0mconcat\u001b[0m\u001b[0;34m(\u001b[0m\u001b[0;34m(\u001b[0m\u001b[0mself\u001b[0m\u001b[0;34m.\u001b[0m\u001b[0mdf_\u001b[0m\u001b[0;34m,\u001b[0m\u001b[0;34m*\u001b[0m\u001b[0mresults\u001b[0m\u001b[0;34m)\u001b[0m\u001b[0;34m)\u001b[0m\u001b[0;34m.\u001b[0m\u001b[0mreset_index\u001b[0m\u001b[0;34m(\u001b[0m\u001b[0mdrop\u001b[0m \u001b[0;34m=\u001b[0m \u001b[0;32mTrue\u001b[0m\u001b[0;34m)\u001b[0m\u001b[0;34m\u001b[0m\u001b[0;34m\u001b[0m\u001b[0m\n\u001b[0;32m--> 327\u001b[0;31m             \u001b[0mself\u001b[0m\u001b[0;34m.\u001b[0m\u001b[0mdf_\u001b[0m \u001b[0;34m=\u001b[0m \u001b[0mself\u001b[0m\u001b[0;34m.\u001b[0m\u001b[0mdf_\u001b[0m\u001b[0;34m.\u001b[0m\u001b[0mastype\u001b[0m\u001b[0;34m(\u001b[0m\u001b[0;34m{\u001b[0m\u001b[0;34m\"metric\"\u001b[0m\u001b[0;34m:\u001b[0m\u001b[0mstr\u001b[0m\u001b[0;34m,\u001b[0m \u001b[0;34m\"score\"\u001b[0m\u001b[0;34m:\u001b[0m\u001b[0mfloat\u001b[0m\u001b[0;34m,\u001b[0m \u001b[0;34m\"algorithm\"\u001b[0m\u001b[0;34m:\u001b[0m\u001b[0mstr\u001b[0m\u001b[0;34m,\u001b[0m\u001b[0;34m\"signal_name\"\u001b[0m\u001b[0;34m:\u001b[0m\u001b[0mstr\u001b[0m\u001b[0;34m,\u001b[0m \u001b[0;34m\"n_patterns\"\u001b[0m\u001b[0;34m:\u001b[0m\u001b[0mint\u001b[0m\u001b[0;34m,\u001b[0m \u001b[0;34m\"predicted_n_patterns\"\u001b[0m\u001b[0;34m:\u001b[0m\u001b[0mint\u001b[0m\u001b[0;34m}\u001b[0m\u001b[0;34m)\u001b[0m\u001b[0;34m\u001b[0m\u001b[0;34m\u001b[0m\u001b[0m\n\u001b[0m\u001b[1;32m    328\u001b[0m \u001b[0;34m\u001b[0m\u001b[0m\n\u001b[1;32m    329\u001b[0m             \u001b[0;32mif\u001b[0m \u001b[0mbackup_path\u001b[0m \u001b[0;34m!=\u001b[0m \u001b[0;32mNone\u001b[0m\u001b[0;34m:\u001b[0m\u001b[0;34m\u001b[0m\u001b[0;34m\u001b[0m\u001b[0m\n\u001b[1;32m    330\u001b[0m                 \u001b[0mself\u001b[0m\u001b[0;34m.\u001b[0m\u001b[0mdf_\u001b[0m\u001b[0;34m.\u001b[0m\u001b[0mto_csv\u001b[0m\u001b[0;34m(\u001b[0m\u001b[0mbackup_path\u001b[0m\u001b[0;34m)\u001b[0m\u001b[0;34m\u001b[0m\u001b[0;34m\u001b[0m\u001b[0m\n",
      "\u001b[0;32m~/anaconda3/lib/python3.10/site-packages/pandas/core/generic.py\u001b[0m in \u001b[0;36m?\u001b[0;34m(self, dtype, copy, errors)\u001b[0m\n\u001b[1;32m   6286\u001b[0m             \u001b[0mdtype_ser\u001b[0m \u001b[0;34m=\u001b[0m \u001b[0mSeries\u001b[0m\u001b[0;34m(\u001b[0m\u001b[0mdtype\u001b[0m\u001b[0;34m,\u001b[0m \u001b[0mdtype\u001b[0m\u001b[0;34m=\u001b[0m\u001b[0mobject\u001b[0m\u001b[0;34m)\u001b[0m\u001b[0;34m\u001b[0m\u001b[0;34m\u001b[0m\u001b[0m\n\u001b[1;32m   6287\u001b[0m \u001b[0;34m\u001b[0m\u001b[0m\n\u001b[1;32m   6288\u001b[0m             \u001b[0;32mfor\u001b[0m \u001b[0mcol_name\u001b[0m \u001b[0;32min\u001b[0m \u001b[0mdtype_ser\u001b[0m\u001b[0;34m.\u001b[0m\u001b[0mindex\u001b[0m\u001b[0;34m:\u001b[0m\u001b[0;34m\u001b[0m\u001b[0;34m\u001b[0m\u001b[0m\n\u001b[1;32m   6289\u001b[0m                 \u001b[0;32mif\u001b[0m \u001b[0mcol_name\u001b[0m \u001b[0;32mnot\u001b[0m \u001b[0;32min\u001b[0m \u001b[0mself\u001b[0m\u001b[0;34m:\u001b[0m\u001b[0;34m\u001b[0m\u001b[0;34m\u001b[0m\u001b[0m\n\u001b[0;32m-> 6290\u001b[0;31m                     raise KeyError(\n\u001b[0m\u001b[1;32m   6291\u001b[0m                         \u001b[0;34m\"Only a column name can be used for the \"\u001b[0m\u001b[0;34m\u001b[0m\u001b[0;34m\u001b[0m\u001b[0m\n\u001b[1;32m   6292\u001b[0m                         \u001b[0;34m\"key in a dtype mappings argument. \"\u001b[0m\u001b[0;34m\u001b[0m\u001b[0;34m\u001b[0m\u001b[0m\n\u001b[1;32m   6293\u001b[0m                         \u001b[0;34mf\"'{col_name}' not found in columns.\"\u001b[0m\u001b[0;34m\u001b[0m\u001b[0;34m\u001b[0m\u001b[0m\n",
      "\u001b[0;31mKeyError\u001b[0m: \"Only a column name can be used for the key in a dtype mappings argument. 'metric' not found in columns.\""
     ]
    }
   ],
   "source": [
    "algorithms=[Motiflets_numba]\n",
    "for data_path,results_path in zip(data_paths_list,results_paths_list):\n",
    "    exp1=exp.Experiment(algorithms)\n",
    "    exp1.run_experiment(data_path,results_path=results_path)"
   ]
  }
 ],
 "metadata": {
  "kernelspec": {
   "display_name": "base",
   "language": "python",
   "name": "python3"
  },
  "language_info": {
   "codemirror_mode": {
    "name": "ipython",
    "version": 3
   },
   "file_extension": ".py",
   "mimetype": "text/x-python",
   "name": "python",
   "nbconvert_exporter": "python",
   "pygments_lexer": "ipython3",
   "version": "3.10.14"
  }
 },
 "nbformat": 4,
 "nbformat_minor": 2
}
