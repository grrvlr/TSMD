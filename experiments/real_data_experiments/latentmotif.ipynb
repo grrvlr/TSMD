{
 "cells": [
  {
   "cell_type": "code",
   "execution_count": null,
   "metadata": {},
   "outputs": [],
   "source": [
    "import os\n",
    "initial_path=os.getcwd()\n",
    "dataset_list=['arm-CODA','mitdb','mitdb1','ptt-ppg','REFIT','SIGN/SIGNRoll','JIGSAW/JIGSAWSMaster','JIGSAW/JIGSAWSSlave']\n",
    "os.chdir(initial_path+'/../..')\n",
    "import experiments.benchmark_experiment as exp\n",
    "from tsmd.competitors.latentmotifs import LatentMotif\n",
    "paths_list= [os.getcwd()+ '/data/processed_data/'+ dataset + '/' for dataset in dataset_list]\n",
    "os.chdir(initial_path)"
   ]
  },
  {
   "cell_type": "markdown",
   "metadata": {},
   "source": [
    "## LatentMotif"
   ]
  },
  {
   "cell_type": "code",
   "execution_count": null,
   "metadata": {},
   "outputs": [],
   "source": [
    "algorithms=[LatentMotif]\n",
    "for path in paths_list:\n",
    "    exp1=exp.Experiment(algorithms)\n",
    "    exp1.run_experiment(path)"
   ]
  }
 ],
 "metadata": {
  "kernelspec": {
   "display_name": "base",
   "language": "python",
   "name": "python3"
  },
  "language_info": {
   "codemirror_mode": {
    "name": "ipython",
    "version": 3
   },
   "file_extension": ".py",
   "mimetype": "text/x-python",
   "name": "python",
   "nbconvert_exporter": "python",
   "pygments_lexer": "ipython3",
   "version": "3.10.14"
  }
 },
 "nbformat": 4,
 "nbformat_minor": 2
}
