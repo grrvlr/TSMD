{
 "cells": [
  {
   "cell_type": "code",
   "execution_count": 1,
   "metadata": {},
   "outputs": [],
   "source": [
    "import os"
   ]
  },
  {
   "cell_type": "code",
   "execution_count": 2,
   "metadata": {},
   "outputs": [],
   "source": [
    "initial_path=os.getcwd()\n",
    "dataset_list=['arm-CODA','mitdb','mitdb1','ptt-ppg','REFIT','SIGN/SIGNRoll','JIGSAW/JIGSAWSMaster','JIGSAW/JIGSAWSSlave']\n",
    "os.chdir(initial_path+'/../..')\n",
    "import experiments.benchmark_experiment as exp\n",
    "from tsmd.competitors.mdl import MDL\n",
    "data_paths_list= [os.getcwd()+ '/data/processed_data/'+ dataset + '/' for dataset in dataset_list]\n",
    "results_paths_list = [os.getcwd() + '/results/RQ1/' + dataset + '/' for dataset in dataset_list] \n",
    "os.chdir(initial_path)"
   ]
  },
  {
   "cell_type": "markdown",
   "metadata": {},
   "source": [
    "## MDL"
   ]
  },
  {
   "cell_type": "code",
   "execution_count": 3,
   "metadata": {},
   "outputs": [
    {
     "name": "stdout",
     "output_type": "stream",
     "text": [
      "Iteration 1/50 -- [1639.4117774054557, -inf, -inf]\n",
      "Iteration 2/50 -- [1629.3676044886106, -1441.767085987005, -inf]\n",
      "Iteration 3/50 -- [1528.6362417051687, -34.4251685794884, -1370.161543822198]\n",
      "Iteration 4/50 -- [1457.8024792891692, -34.4251685794884, -1370.161543822198]\n",
      "Iteration 5/50 -- [734.4484096425167, -712.4921514159114, -1255.9426169875805]\n",
      "Iteration 6/50 -- [-inf, -740.6163351020687, -1064.674965032903]\n",
      "signal_name: armcoda_0, algo: MDL, , f-auc: 0.75, ami: 0.62\n",
      "signal_name: armcoda_1, algo: MDL failed to fit.\n"
     ]
    }
   ],
   "source": [
    "algorithms=[MDL]\n",
    "for data_path,results_path in zip(data_paths_list,results_paths_list):\n",
    "    exp1=exp.Experiment(algorithms)\n",
    "    exp1.run_experiment(data_path,results_path=results_path)"
   ]
  },
  {
   "cell_type": "code",
   "execution_count": null,
   "metadata": {},
   "outputs": [],
   "source": []
  }
 ],
 "metadata": {
  "kernelspec": {
   "display_name": "base",
   "language": "python",
   "name": "python3"
  },
  "language_info": {
   "codemirror_mode": {
    "name": "ipython",
    "version": 3
   },
   "file_extension": ".py",
   "mimetype": "text/x-python",
   "name": "python",
   "nbconvert_exporter": "python",
   "pygments_lexer": "ipython3",
   "version": "3.10.14"
  }
 },
 "nbformat": 4,
 "nbformat_minor": 2
}
