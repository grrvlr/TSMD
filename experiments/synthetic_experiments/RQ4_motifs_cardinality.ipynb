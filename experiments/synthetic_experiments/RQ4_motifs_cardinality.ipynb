{
 "cells": [
  {
   "cell_type": "code",
   "execution_count": null,
   "metadata": {},
   "outputs": [],
   "source": [
    "import random\n",
    "random.seed(10)\n",
    "import os \n",
    "\n",
    "initial_path=os.getcwd()\n",
    "os.chdir(os.getcwd()+'/../..')\n",
    "from experiments.benchmark_experiment import Experiment\n",
    "\n",
    "from tsmd.competitors.grammarviz import Grammarviz\n",
    "from tsmd.competitors.matrixprofile import MatrixProfile\n",
    "from tsmd.competitors.valmod import Valmod\n",
    "from tsmd.competitors.mdl import MDL\n",
    "from tsmd.competitors.locomotif import LocoMotif\n",
    "from tsmd.competitors.latentmotifs import LatentMotif\n",
    "from tsmd.competitors.motiflets import Motiflets\n",
    "from tsmd.competitors.panmatrixprofile import PanMatrixProfile\n",
    "from tsmd.competitors.persistence import BasePersistentPattern\n",
    "from tsmd.competitors.setfinder import Baseline\n",
    "from tsmd.competitors.adaptative_persistence import AdaptativeBasePersistentPattern\n",
    "\n",
    "os.chdir(initial_path)"
   ]
  },
  {
   "cell_type": "markdown",
   "metadata": {},
   "source": [
    "## Motifs cardinality "
   ]
  },
  {
   "cell_type": "code",
   "execution_count": null,
   "metadata": {},
   "outputs": [],
   "source": [
    "path=initial_path+'/../../results/RQ4/scenario1'\n",
    "if not os.path.exists(path):\n",
    "    os.makedirs(path)"
   ]
  },
  {
   "cell_type": "code",
   "execution_count": null,
   "metadata": {},
   "outputs": [],
   "source": [
    "n_occurences_list=[3,5,10,15,20,30,40,50,100]\n",
    "generator_params={'n_motifs':1,'motif_length':100, 'motif_amplitude' :4 , 'motif_fundamental':4,\n",
    "                   'sparsity':0.8,'sparsity_fluctuation':0.5,'length_fluctuation':0,'noise_amplitude':0.1}\n",
    "\n",
    "algorithms=[MatrixProfile,PanMatrixProfile,LocoMotif,LatentMotif,MDL,Motiflets,BasePersistentPattern,Valmod,Baseline,AdaptativeBasePersistentPattern]\n",
    "\n",
    "for n_occurences in n_occurences_list:\n",
    "    generator_params['min_rep']=generator_params['max_rep']=n_occurences\n",
    "    specific_path=path+'/n_occurences_'+str(n_occurences)+'/'\n",
    "    if not os.path.exists(specific_path):\n",
    "        os.makedirs(specific_path)\n",
    "\n",
    "    exp=Experiment(algorithms)\n",
    "    exp.run_experiment(specific_path,generator_params,results_path=specific_path)"
   ]
  },
  {
   "cell_type": "code",
   "execution_count": null,
   "metadata": {},
   "outputs": [],
   "source": [
    "n_occurences_list=[3,5,10,15,20,30,40,50,100]\n",
    "generator_params={'n_motifs':1,'motif_length':100, 'motif_amplitude' :4 , 'motif_fundamental':4,\n",
    "                   'sparsity':0.8,'sparsity_fluctuation':0.5,'length_fluctuation':0,'noise_amplitude':0.1}\n",
    "os.chdir(initial_path+'/../../tsmd')\n",
    "algorithms=[Grammarviz]\n",
    "\n",
    "for n_occurences in n_occurences_list:\n",
    "    generator_params['min_rep']=generator_params['max_rep']=n_occurences\n",
    "    specific_path=path+'/n_occurences_'+str(n_occurences)+'/'\n",
    "    if not os.path.exists(specific_path):\n",
    "        os.makedirs(specific_path)\n",
    "\n",
    "    exp=Experiment(algorithms)\n",
    "    exp.run_experiment(specific_path,generator_params,results_path=specific_path)\n",
    "    os.chdir(initial_path)"
   ]
  },
  {
   "cell_type": "markdown",
   "metadata": {},
   "source": [
    "## Motifs cardinality : Cardinality unbalance"
   ]
  },
  {
   "cell_type": "code",
   "execution_count": null,
   "metadata": {},
   "outputs": [],
   "source": [
    "path=initial_path+'/../../results/RQ4/scenario2'\n",
    "if not os.path.exists(path):\n",
    "    os.makedirs(path)"
   ]
  },
  {
   "cell_type": "code",
   "execution_count": null,
   "metadata": {},
   "outputs": [],
   "source": [
    "generator_params={'n_motifs':2,'motif_length':100, 'motif_amplitude' :4 , 'motif_fundamental':4,\n",
    "                   'sparsity':0.8,'sparsity_fluctuation':0.5,'length_fluctuation':0,'noise_amplitude':0.1}\n",
    "\n",
    "algorithms=[MatrixProfile,PanMatrixProfile,LocoMotif,LatentMotif,MDL,Motiflets,BasePersistentPattern,Valmod,Baseline,AdaptativeBasePersistentPattern]\n",
    "\n",
    "n_occurences_list=[3,5,10,15,20,30,40,50,100]\n",
    "for n_occurences1 in n_occurences_list:\n",
    "    for n_occurences2 in n_occurences_list:\n",
    "        if n_occurences1<=n_occurences2:\n",
    "            print(n_occurences1,n_occurences2)\n",
    "            generator_params['exact_occurences']=[n_occurences1,n_occurences2]\n",
    "            specific_path=path+'/motifs_occurences_'+str(n_occurences1)+'and'+str(n_occurences2)+'/'\n",
    "            if not os.path.exists(specific_path):\n",
    "                os.makedirs(specific_path)\n",
    "\n",
    "            exp=Experiment(algorithms)\n",
    "            exp.run_experiment(specific_path,generator_params,results_path=specific_path)"
   ]
  },
  {
   "cell_type": "code",
   "execution_count": null,
   "metadata": {},
   "outputs": [],
   "source": [
    "generator_params={'n_motifs':2,'motif_length':100, 'motif_amplitude' :4 , 'motif_fundamental':4,\n",
    "                   'sparsity':0.8,'sparsity_fluctuation':0.5,'length_fluctuation':0,'noise_amplitude':0.1}\n",
    "\n",
    "os.chdir(initial_path+'/../tsmd')\n",
    "algorithms=[Grammarviz]\n",
    "\n",
    "n_occurences_list=[3,5,10,15,20,30,40,50,100]\n",
    "for n_occurences1 in n_occurences_list:\n",
    "    for n_occurences2 in n_occurences_list:\n",
    "        if n_occurences1<=n_occurences2:\n",
    "            print(n_occurences1,n_occurences2)\n",
    "            generator_params['exact_occurences']=[n_occurences1,n_occurences2]\n",
    "            specific_path=path+'/motifs_occurences_'+str(n_occurences1)+'and'+str(n_occurences2)+'/'\n",
    "            if not os.path.exists(specific_path):\n",
    "                os.makedirs(specific_path)\n",
    "\n",
    "            exp=Experiment(algorithms)\n",
    "            exp.run_experiment(specific_path,generator_params,results_path=specific_path)\n",
    "os.chdir(initial_path)"
   ]
  }
 ],
 "metadata": {
  "kernelspec": {
   "display_name": "base",
   "language": "python",
   "name": "python3"
  },
  "language_info": {
   "codemirror_mode": {
    "name": "ipython",
    "version": 3
   },
   "file_extension": ".py",
   "mimetype": "text/x-python",
   "name": "python",
   "nbconvert_exporter": "python",
   "pygments_lexer": "ipython3",
   "version": "3.10.14"
  }
 },
 "nbformat": 4,
 "nbformat_minor": 2
}
