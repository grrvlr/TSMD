{
 "cells": [
  {
   "cell_type": "code",
   "execution_count": null,
   "metadata": {},
   "outputs": [],
   "source": [
    "import random\n",
    "random.seed(10)\n",
    "import os \n",
    "\n",
    "initial_path=os.getcwd()\n",
    "os.chdir(os.getcwd()+'/../..')\n",
    "from experiments.benchmark_experiment import Experiment\n",
    "\n",
    "from tsmd.competitors.grammarviz import Grammarviz\n",
    "from tsmd.competitors.matrixprofile import MatrixProfile\n",
    "from tsmd.competitors.valmod import Valmod\n",
    "from tsmd.competitors.mdl import MDL\n",
    "from tsmd.competitors.locomotif import LocoMotif\n",
    "from tsmd.competitors.latentmotifs import LatentMotif\n",
    "from tsmd.competitors.motiflets import Motiflets\n",
    "from tsmd.competitors.panmatrixprofile import PanMatrixProfile\n",
    "from tsmd.competitors.persistence import BasePersistentPattern\n",
    "from tsmd.competitors.setfinder import Baseline\n",
    "from tsmd.competitors.adaptative_persistence import AdaptativeBasePersistentPattern\n",
    "\n",
    "os.chdir(initial_path)"
   ]
  },
  {
   "cell_type": "markdown",
   "metadata": {},
   "source": [
    "## Spatial deformations"
   ]
  },
  {
   "cell_type": "code",
   "execution_count": null,
   "metadata": {},
   "outputs": [],
   "source": [
    "path=initial_path+'/../../results/RQ7'\n",
    "if not os.path.exists(path):\n",
    "    os.makedirs(path)"
   ]
  },
  {
   "cell_type": "code",
   "execution_count": null,
   "metadata": {},
   "outputs": [],
   "source": [
    "algorithms=[MatrixProfile,PanMatrixProfile,LocoMotif,LatentMotif,MDL,Motiflets,BasePersistentPattern,Valmod,Baseline,AdaptativeBasePersistentPattern]\n",
    "walk_amplitude_list=[0,1,2,3,5,10,15,20,30,50]\n",
    "generator_params={'n_motifs': 1 ,'motif_length':100, 'motif_amplitude' :4 , 'motif_fundamental':4,\n",
    "                   'sparsity':0.8,'sparsity_fluctuation':0.5,'min_rep':20,'max_rep':20,'noise_amplitude':0.1,'length_fluctuation':0}\n",
    "\n",
    "for walk_amplitude in walk_amplitude_list:\n",
    "    generator_params['walk_amplitude']=walk_amplitude\n",
    "\n",
    "    specific_path=path+'/walk_amplitude_'+str(walk_amplitude)+'/'\n",
    "    if not os.path.exists(specific_path):\n",
    "        os.makedirs(specific_path)\n",
    "\n",
    "    exp=Experiment(algorithms)\n",
    "    exp.run_experiment(specific_path,generator_params,results_path=specific_path)"
   ]
  },
  {
   "cell_type": "code",
   "execution_count": null,
   "metadata": {},
   "outputs": [],
   "source": [
    "algorithms=[Grammarviz]\n",
    "walk_amplitude_list=[0,1,2,3,5,10,15,20,30,50]\n",
    "generator_params={'n_motifs': 1 ,'motif_length':100, 'motif_amplitude' :4 , 'motif_fundamental':4,\n",
    "                   'sparsity':0.8,'sparsity_fluctuation':0.5,'min_rep':20,'max_rep':20,'noise_amplitude':0.1,'length_fluctuation':0}\n",
    "os.chdir(initial_path+'/../../tsmd')\n",
    "for walk_amplitude in walk_amplitude_list:\n",
    "    generator_params['walk_amplitude']=walk_amplitude\n",
    "\n",
    "    specific_path=path+'/walk_amplitude_'+str(walk_amplitude)+'/'\n",
    "    if not os.path.exists(specific_path):\n",
    "        os.makedirs(specific_path)\n",
    "\n",
    "    exp=Experiment(algorithms)\n",
    "    exp.run_experiment(specific_path,generator_params,results_path=specific_path)"
   ]
  }
 ],
 "metadata": {
  "kernelspec": {
   "display_name": "base",
   "language": "python",
   "name": "python3"
  },
  "language_info": {
   "codemirror_mode": {
    "name": "ipython",
    "version": 3
   },
   "file_extension": ".py",
   "mimetype": "text/x-python",
   "name": "python",
   "nbconvert_exporter": "python",
   "pygments_lexer": "ipython3",
   "version": "3.10.14"
  }
 },
 "nbformat": 4,
 "nbformat_minor": 2
}
